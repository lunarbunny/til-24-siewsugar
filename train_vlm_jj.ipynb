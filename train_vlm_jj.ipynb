{
 "cells": [
  {
   "cell_type": "code",
   "execution_count": 1,
   "id": "e4208be3-63b0-4cc3-a0ac-7d152f631218",
   "metadata": {
    "tags": []
   },
   "outputs": [],
   "source": [
    "from pathlib import Path\n",
    "from dotenv import load_dotenv\n",
    "import os\n",
    "import json\n",
    "\n",
    "load_dotenv()\n",
    "TEAM_NAME = os.getenv(\"TEAM_NAME\")\n",
    "TEAM_TRACK = os.getenv(\"TEAM_TRACK\")\n",
    "input_dir = Path(f\"/home/jupyter/{TEAM_TRACK}/vlm.jsonl\")\n",
    "output_dir = Path(f\"/home/jupyter/{TEAM_NAME}/models\")"
   ]
  },
  {
   "cell_type": "code",
   "execution_count": 2,
   "id": "ccb5121e-1aff-4731-a553-7828b9c1ad7d",
   "metadata": {
    "tags": []
   },
   "outputs": [],
   "source": [
    "from PIL import Image\n",
    "\n",
    "def read_jsonl(file_path):\n",
    "    with open(file_path, 'r') as file:\n",
    "        for line in file:\n",
    "            yield json.loads(line)\n",
    "\n",
    "def extract_categories(data):\n",
    "    categories = set()\n",
    "    for item in data:\n",
    "        for annotation in item['annotations']:\n",
    "            caption = annotation['caption']\n",
    "            categories.update(caption.split(', '))\n",
    "    return categories\n",
    "\n",
    "def create_category_mapping(categories):\n",
    "    return {category: idx for idx, category in enumerate(categories)}\n",
    "\n",
    "def get_category_id(caption, category_mapping):\n",
    "    for category in category_mapping:\n",
    "        if category in caption:\n",
    "            return category_mapping[category]\n",
    "    return -1\n",
    "\n",
    "def translate_annotations(image_data, image_path, image_id, category_mapping):\n",
    "    image = Image.open(image_path)\n",
    "    width, height = image.size\n",
    "    annotations = image_data['annotations']\n",
    "    \n",
    "    translated = {\n",
    "        'image_id': image_id,\n",
    "        'image': image_path,\n",
    "        'width': width,\n",
    "        'height': height,\n",
    "        'objects': {\n",
    "            'id': [],\n",
    "            'area': [],\n",
    "            'bbox': [],\n",
    "            'category': []\n",
    "        }\n",
    "    }\n",
    "    \n",
    "    for obj_id, annotation in enumerate(annotations):\n",
    "        x, y, w, h = annotation['bbox']\n",
    "        area = w * h\n",
    "        category_id = get_category_id(annotation['caption'], category_mapping)\n",
    "        \n",
    "        translated['objects']['id'].append(obj_id)\n",
    "        translated['objects']['area'].append(area)\n",
    "        translated['objects']['bbox'].append([x, y, w, h])\n",
    "        translated['objects']['category'].append(category_id)\n",
    "    \n",
    "    return translated"
   ]
  },
  {
   "cell_type": "code",
   "execution_count": 3,
   "id": "1cbcd74d-61ff-4fe5-b874-e29ca6e599ca",
   "metadata": {
    "tags": []
   },
   "outputs": [
    {
     "name": "stdout",
     "output_type": "stream",
     "text": [
      "Translated data saved to train-detr-v.20.json\n"
     ]
    }
   ],
   "source": [
    "file_path = input_dir\n",
    "data = list(read_jsonl(file_path))\n",
    "categories = extract_categories(data)\n",
    "category_mapping = create_category_mapping(categories)\n",
    "\n",
    "translated_data = []\n",
    "image_id = 0\n",
    "\n",
    "for item in data:\n",
    "    image_path = Path(f\"/home/jupyter/til-24-siewsugar/vlm-img/images/{item['image']}\")\n",
    "    translated = translate_annotations(item, image_path, image_id, category_mapping)\n",
    "    translated_data.append(translated)\n",
    "    image_id += 1\n",
    "\n",
    "# Save translated data to train_vlm.json\n",
    "output_file_path = 'train-detr-v.20.json'\n",
    "with open(output_file_path, 'w') as output_file:\n",
    "    json.dump(translated_data, output_file, indent=4, default=str)\n",
    "\n",
    "print(f\"Translated data saved to {output_file_path}\")"
   ]
  },
  {
   "cell_type": "code",
   "execution_count": 7,
   "id": "1bd8e3ac-4ad2-40da-9004-4f7a27a26489",
   "metadata": {
    "tags": []
   },
   "outputs": [
    {
     "ename": "OSError",
     "evalue": "[Errno 24] Too many open files: 'train-detr-v.20.json'",
     "output_type": "error",
     "traceback": [
      "\u001b[0;31m---------------------------------------------------------------------------\u001b[0m",
      "\u001b[0;31mOSError\u001b[0m                                   Traceback (most recent call last)",
      "Cell \u001b[0;32mIn[7], line 23\u001b[0m\n\u001b[1;32m     20\u001b[0m     hf_dataset \u001b[38;5;241m=\u001b[39m Dataset\u001b[38;5;241m.\u001b[39mfrom_list(flat_data)\n\u001b[1;32m     21\u001b[0m     \u001b[38;5;28;01mreturn\u001b[39;00m hf_dataset\n\u001b[0;32m---> 23\u001b[0m hf_dataset \u001b[38;5;241m=\u001b[39m \u001b[43mcreate_hf_dataset\u001b[49m\u001b[43m(\u001b[49m\u001b[38;5;124;43m'\u001b[39;49m\u001b[38;5;124;43mtrain-detr-v.20.json\u001b[39;49m\u001b[38;5;124;43m'\u001b[39;49m\u001b[43m)\u001b[49m\n\u001b[1;32m     24\u001b[0m \u001b[38;5;28mprint\u001b[39m(hf_dataset)\n",
      "Cell \u001b[0;32mIn[7], line 6\u001b[0m, in \u001b[0;36mcreate_hf_dataset\u001b[0;34m(json_path)\u001b[0m\n\u001b[1;32m      5\u001b[0m \u001b[38;5;28;01mdef\u001b[39;00m \u001b[38;5;21mcreate_hf_dataset\u001b[39m(json_path):\n\u001b[0;32m----> 6\u001b[0m     \u001b[38;5;28;01mwith\u001b[39;00m \u001b[38;5;28;43mopen\u001b[39;49m\u001b[43m(\u001b[49m\u001b[43mjson_path\u001b[49m\u001b[43m,\u001b[49m\u001b[43m \u001b[49m\u001b[38;5;124;43m'\u001b[39;49m\u001b[38;5;124;43mr\u001b[39;49m\u001b[38;5;124;43m'\u001b[39;49m\u001b[43m)\u001b[49m \u001b[38;5;28;01mas\u001b[39;00m file:\n\u001b[1;32m      7\u001b[0m         data \u001b[38;5;241m=\u001b[39m json\u001b[38;5;241m.\u001b[39mload(file)\n\u001b[1;32m      8\u001b[0m     flat_data \u001b[38;5;241m=\u001b[39m []\n",
      "File \u001b[0;32m/opt/conda/lib/python3.10/site-packages/IPython/core/interactiveshell.py:310\u001b[0m, in \u001b[0;36m_modified_open\u001b[0;34m(file, *args, **kwargs)\u001b[0m\n\u001b[1;32m    303\u001b[0m \u001b[38;5;28;01mif\u001b[39;00m file \u001b[38;5;129;01min\u001b[39;00m {\u001b[38;5;241m0\u001b[39m, \u001b[38;5;241m1\u001b[39m, \u001b[38;5;241m2\u001b[39m}:\n\u001b[1;32m    304\u001b[0m     \u001b[38;5;28;01mraise\u001b[39;00m \u001b[38;5;167;01mValueError\u001b[39;00m(\n\u001b[1;32m    305\u001b[0m         \u001b[38;5;124mf\u001b[39m\u001b[38;5;124m\"\u001b[39m\u001b[38;5;124mIPython won\u001b[39m\u001b[38;5;124m'\u001b[39m\u001b[38;5;124mt let you open fd=\u001b[39m\u001b[38;5;132;01m{\u001b[39;00mfile\u001b[38;5;132;01m}\u001b[39;00m\u001b[38;5;124m by default \u001b[39m\u001b[38;5;124m\"\u001b[39m\n\u001b[1;32m    306\u001b[0m         \u001b[38;5;124m\"\u001b[39m\u001b[38;5;124mas it is likely to crash IPython. If you know what you are doing, \u001b[39m\u001b[38;5;124m\"\u001b[39m\n\u001b[1;32m    307\u001b[0m         \u001b[38;5;124m\"\u001b[39m\u001b[38;5;124myou can use builtins\u001b[39m\u001b[38;5;124m'\u001b[39m\u001b[38;5;124m open.\u001b[39m\u001b[38;5;124m\"\u001b[39m\n\u001b[1;32m    308\u001b[0m     )\n\u001b[0;32m--> 310\u001b[0m \u001b[38;5;28;01mreturn\u001b[39;00m \u001b[43mio_open\u001b[49m\u001b[43m(\u001b[49m\u001b[43mfile\u001b[49m\u001b[43m,\u001b[49m\u001b[43m \u001b[49m\u001b[38;5;241;43m*\u001b[39;49m\u001b[43margs\u001b[49m\u001b[43m,\u001b[49m\u001b[43m \u001b[49m\u001b[38;5;241;43m*\u001b[39;49m\u001b[38;5;241;43m*\u001b[39;49m\u001b[43mkwargs\u001b[49m\u001b[43m)\u001b[49m\n",
      "\u001b[0;31mOSError\u001b[0m: [Errno 24] Too many open files: 'train-detr-v.20.json'"
     ]
    }
   ],
   "source": [
    "import json\n",
    "from datasets import Dataset\n",
    "from PIL import Image\n",
    "\n",
    "def create_hf_dataset(json_path):\n",
    "    with open(json_path, 'r') as file:\n",
    "        data = json.load(file)\n",
    "    flat_data = []\n",
    "    for item in data:\n",
    "        with Image.open(item['image']) as img:\n",
    "            item['image'] = img.copy()\n",
    "        flat_item = {\n",
    "            'image_id': item['image_id'],\n",
    "            'image': item['image'],\n",
    "            'width': item['width'],\n",
    "            'height': item['height'],\n",
    "            'objects': item['objects']\n",
    "        }\n",
    "        flat_data.append(flat_item)\n",
    "    hf_dataset = Dataset.from_list(flat_data)\n",
    "    return hf_dataset\n",
    "\n",
    "hf_dataset = create_hf_dataset('train-detr-v.20.json')\n",
    "print(hf_dataset)"
   ]
  },
  {
   "cell_type": "code",
   "execution_count": null,
   "id": "43242b59-c7ea-4498-bce6-33d3d68037d5",
   "metadata": {},
   "outputs": [],
   "source": []
  }
 ],
 "metadata": {
  "environment": {
   "kernel": "conda-base-py",
   "name": "workbench-notebooks.m120",
   "type": "gcloud",
   "uri": "us-docker.pkg.dev/deeplearning-platform-release/gcr.io/workbench-notebooks:m120"
  },
  "kernelspec": {
   "display_name": "Python 3 (ipykernel)",
   "language": "python",
   "name": "conda-base-py"
  },
  "language_info": {
   "codemirror_mode": {
    "name": "ipython",
    "version": 3
   },
   "file_extension": ".py",
   "mimetype": "text/x-python",
   "name": "python",
   "nbconvert_exporter": "python",
   "pygments_lexer": "ipython3",
   "version": "3.10.14"
  }
 },
 "nbformat": 4,
 "nbformat_minor": 5
}
